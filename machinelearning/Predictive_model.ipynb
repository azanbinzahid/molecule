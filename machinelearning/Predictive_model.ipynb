{
  "nbformat": 4,
  "nbformat_minor": 0,
  "metadata": {
    "colab": {
      "name": "Untitled0.ipynb",
      "provenance": []
    },
    "kernelspec": {
      "name": "python3",
      "display_name": "Python 3"
    },
    "language_info": {
      "name": "python"
    }
  },
  "cells": [
    {
      "cell_type": "markdown",
      "source": [
        "Checkmate Linear regression based on the Retrospective Data"
      ],
      "metadata": {
        "id": "rEFs8oxRARKN"
      }
    },
    {
      "cell_type": "markdown",
      "source": [
        ""
      ],
      "metadata": {
        "id": "cLOpbnq6AOoJ"
      }
    },
    {
      "cell_type": "code",
      "execution_count": 22,
      "metadata": {
        "colab": {
          "base_uri": "https://localhost:8080/"
        },
        "id": "uL5QEZIdbHaY",
        "outputId": "4c576a20-82b2-4c81-c975-01691127928f"
      },
      "outputs": [
        {
          "output_type": "stream",
          "name": "stdout",
          "text": [
            "Drive already mounted at /content/drive; to attempt to forcibly remount, call drive.mount(\"/content/drive\", force_remount=True).\n"
          ]
        }
      ],
      "source": [
        "from google.colab import drive\n",
        "drive.mount('/content/drive')"
      ]
    },
    {
      "cell_type": "code",
      "source": [
        "import numpy as np\n",
        "import os\n",
        "import numpy as np\n",
        "from matplotlib import pyplot\n",
        "import matplotlib.pyplot as mp\n",
        "import pandas as pd\n",
        "import seaborn as sb\n",
        "%matplotlib inline"
      ],
      "metadata": {
        "id": "50AqeqACcfCb"
      },
      "execution_count": 77,
      "outputs": []
    },
    {
      "cell_type": "code",
      "source": [
        "#data reading\n",
        "data = np.loadtxt(os.path.join('/content/drive/My Drive', 'forest.txt'), delimiter=',')\n",
        "X, Y = data[:, 0], data[:, 1]"
      ],
      "metadata": {
        "id": "lUAov2Bscilt"
      },
      "execution_count": 135,
      "outputs": []
    },
    {
      "cell_type": "code",
      "source": [
        "#raw data point plots\n",
        "pyplot.plot(X, Y, 'ro', ms=10, mec='k')\n",
        "pyplot.ylabel('AQI')\n",
        "pyplot.xlabel('Forestation NDVI index')"
      ],
      "metadata": {
        "colab": {
          "base_uri": "https://localhost:8080/",
          "height": 296
        },
        "id": "eInacGZGdBZj",
        "outputId": "d9064ac0-3c8d-4c9a-c0a0-290bc4ea2d54"
      },
      "execution_count": 137,
      "outputs": [
        {
          "output_type": "execute_result",
          "data": {
            "text/plain": [
              "Text(0.5, 0, 'Forestation NDVI index')"
            ]
          },
          "metadata": {},
          "execution_count": 137
        },
        {
          "output_type": "display_data",
          "data": {
            "image/png": "[encoded data removed]",
            "text/plain": [
              "<Figure size 432x288 with 1 Axes>"
            ]
          },
          "metadata": {
            "needs_background": "light"
          }
        }
      ]
    },
    {
      "cell_type": "code",
      "source": [
        "def estimate_coef(x, y):\n",
        "    n = np.size(x)\n",
        "    meanx = np.mean(x)\n",
        "    meany = np.mean(y)\n",
        "    stdxy = np.sum(y*x) - n*meany*meanx\n",
        "    stdxx = np.sum(x*x) - n*meanx*meanx\n",
        "    b_1 = stdxy / stdxx\n",
        "    b_0 = meany - b_1*meanx\n",
        "    return (b_0, b_1)"
      ],
      "metadata": {
        "id": "59jkOmag-FfH"
      },
      "execution_count": 138,
      "outputs": []
    },
    {
      "cell_type": "code",
      "source": [
        "def plot_regression_line(x, y, b):\n",
        "\tplt.scatter(x, y, color = \"m\",marker = \"o\", s = 40)\n",
        "\ty_pred = b[0] + b[1]*x\n",
        "\tplt.plot(x, y_pred, color = \"g\")\n",
        "\tplt.xlabel('x (factor)')\n",
        "\tplt.ylabel('y (aqi)')\n",
        "\tplt.show()"
      ],
      "metadata": {
        "id": "B4W-2_Jw8n99"
      },
      "execution_count": 139,
      "outputs": []
    },
    {
      "cell_type": "code",
      "source": [
        "#linear regression plots\n",
        "B_coefficients = estimate_coef(X,Y)\n",
        "print(B_coefficients[0])\n",
        "print(B_coefficients[1])\n",
        "plot_regression_line(X, Y, B_coefficients)"
      ],
      "metadata": {
        "id": "16R_dxaDr2Up",
        "outputId": "7629c7a0-b6b4-4490-dd7c-480709044468",
        "colab": {
          "base_uri": "https://localhost:8080/",
          "height": 279
        }
      },
      "execution_count": 143,
      "outputs": [
        {
          "output_type": "display_data",
          "data": {
            "image/png": "[encoded data removed]",
            "text/plain": [
              "<Figure size 432x288 with 1 Axes>"
            ]
          },
          "metadata": {
            "needs_background": "light"
          }
        }
      ]
    },
    {
      "cell_type": "code",
      "source": [
        "#these coefficients belong to the respective data loaded above\n",
        "estimate_coef(X,Y)"
      ],
      "metadata": {
        "id": "PxMcINBH-bud"
      },
      "execution_count": null,
      "outputs": []
    },
    {
      "cell_type": "markdown",
      "source": [
        "Future predictions using the Coefficients calcultaed previously"
      ],
      "metadata": {
        "id": "rGXLITf-dIKB"
      }
    },
    {
      "cell_type": "code",
      "source": [
        "transport_x=pd.read_csv('/content/drive/My Drive/transport_future.txt')"
      ],
      "metadata": {
        "id": "MjBT_bNzKggJ"
      },
      "execution_count": 101,
      "outputs": []
    },
    {
      "cell_type": "code",
      "source": [
        "industry_x=pd.read_csv('/content/drive/My Drive/industrial_future.txt')"
      ],
      "metadata": {
        "id": "vxISJCkhKp_4"
      },
      "execution_count": 102,
      "outputs": []
    },
    {
      "cell_type": "code",
      "source": [
        "population_x=pd.read_csv('/content/drive/My Drive/population_future.txt')"
      ],
      "metadata": {
        "id": "WVVi8SJRKqoL"
      },
      "execution_count": 103,
      "outputs": []
    },
    {
      "cell_type": "code",
      "source": [
        "forest_x=pd.read_csv('/content/drive/My Drive/forest_future.txt')"
      ],
      "metadata": {
        "id": "hdXFzudfcyF1"
      },
      "execution_count": null,
      "outputs": []
    },
    {
      "cell_type": "markdown",
      "source": [
        "Function to provide the AQI based on the values of factors and their weights/ coefficients"
      ],
      "metadata": {
        "id": "bsbbpW_ndmGF"
      }
    },
    {
      "cell_type": "code",
      "source": [
        "def future(x,m,c):\n",
        "  for iter in x:\n",
        "        y = m*x+c \n",
        "  return y"
      ],
      "metadata": {
        "id": "eBBaGcrzLe8Z"
      },
      "execution_count": 122,
      "outputs": []
    },
    {
      "cell_type": "code",
      "source": [
        "transport_y = future(transport_x,transport_m,transport_c)"
      ],
      "metadata": {
        "id": "7B2T3Ga6LSkX"
      },
      "execution_count": 123,
      "outputs": []
    },
    {
      "cell_type": "code",
      "source": [
        "transport_y.to_csv('/content/drive/My Drive/transport_labels.txt')"
      ],
      "metadata": {
        "id": "nJw7jy4GNfoQ"
      },
      "execution_count": 125,
      "outputs": []
    },
    {
      "cell_type": "code",
      "source": [
        "population_y = future(population_x,population_m,population_c)"
      ],
      "metadata": {
        "id": "VXV-rvYPN-iR"
      },
      "execution_count": 126,
      "outputs": []
    },
    {
      "cell_type": "code",
      "source": [
        "population_y.to_csv('/content/drive/My Drive/population_labels.txt')"
      ],
      "metadata": {
        "id": "UvYbbXfWOKuu"
      },
      "execution_count": 127,
      "outputs": []
    },
    {
      "cell_type": "code",
      "source": [
        "industry_y = future(industry_x,industry_m,industry_c)"
      ],
      "metadata": {
        "id": "n1rq-a-0OQtV"
      },
      "execution_count": 129,
      "outputs": []
    },
    {
      "cell_type": "code",
      "source": [
        "industry_y.to_csv('/content/drive/My Drive/industry_labels.txt')"
      ],
      "metadata": {
        "id": "d-OYdrJMOgkW"
      },
      "execution_count": 130,
      "outputs": []
    },
    {
      "cell_type": "code",
      "source": [
        "forestation_y = future(forest_x,forest_m,forest_c)"
      ],
      "metadata": {
        "id": "olymEF5tcbRu"
      },
      "execution_count": null,
      "outputs": []
    },
    {
      "cell_type": "code",
      "source": [
        "forestation_y.to_csv('/content/drive/My Drive/forest_labels.txt')"
      ],
      "metadata": {
        "id": "kgwu5GEbcbno"
      },
      "execution_count": null,
      "outputs": []
    }
  ]
}